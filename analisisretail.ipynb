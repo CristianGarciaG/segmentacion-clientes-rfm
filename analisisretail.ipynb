{
 "cells": [
  {
   "cell_type": "code",
   "execution_count": 1,
   "id": "49faf503",
   "metadata": {},
   "outputs": [],
   "source": [
    "import pandas as pd\n"
   ]
  },
  {
   "cell_type": "code",
   "execution_count": null,
   "id": "38aa20cd",
   "metadata": {},
   "outputs": [
    {
     "name": "stdout",
     "output_type": "stream",
     "text": [
      "  InvoiceNo StockCode                          Description  Quantity  \\\n",
      "0    536365    85123A   WHITE HANGING HEART T-LIGHT HOLDER         6   \n",
      "1    536365     71053                  WHITE METAL LANTERN         6   \n",
      "2    536365    84406B       CREAM CUPID HEARTS COAT HANGER         8   \n",
      "3    536365    84029G  KNITTED UNION FLAG HOT WATER BOTTLE         6   \n",
      "4    536365    84029E       RED WOOLLY HOTTIE WHITE HEART.         6   \n",
      "\n",
      "          InvoiceDate  UnitPrice  CustomerID         Country  \n",
      "0 2010-12-01 08:26:00       2.55     17850.0  United Kingdom  \n",
      "1 2010-12-01 08:26:00       3.39     17850.0  United Kingdom  \n",
      "2 2010-12-01 08:26:00       2.75     17850.0  United Kingdom  \n",
      "3 2010-12-01 08:26:00       3.39     17850.0  United Kingdom  \n",
      "4 2010-12-01 08:26:00       3.39     17850.0  United Kingdom  \n",
      "<class 'pandas.core.frame.DataFrame'>\n",
      "RangeIndex: 541909 entries, 0 to 541908\n",
      "Data columns (total 8 columns):\n",
      " #   Column       Non-Null Count   Dtype         \n",
      "---  ------       --------------   -----         \n",
      " 0   InvoiceNo    541909 non-null  object        \n",
      " 1   StockCode    541909 non-null  object        \n",
      " 2   Description  540455 non-null  object        \n",
      " 3   Quantity     541909 non-null  int64         \n",
      " 4   InvoiceDate  541909 non-null  datetime64[ns]\n",
      " 5   UnitPrice    541909 non-null  float64       \n",
      " 6   CustomerID   406829 non-null  float64       \n",
      " 7   Country      541909 non-null  object        \n",
      "dtypes: datetime64[ns](1), float64(2), int64(1), object(4)\n",
      "memory usage: 33.1+ MB\n",
      "None\n"
     ]
    }
   ],
   "source": [
    "\n",
    "\n",
    "ruta_archivo = r\"C:\\Users\\cdavi\\Desktop\\Proyecto 3\\Retail.xlsx\"\n",
    "\n",
    "df = pd.read_excel(ruta_archivo)\n",
    "\n",
    "\n",
    "print(df.head())\n",
    "\n",
    "\n",
    "print(df.info())\n"
   ]
  },
  {
   "cell_type": "code",
   "execution_count": null,
   "id": "3df743f6",
   "metadata": {},
   "outputs": [],
   "source": [
    "\n",
    "df.dropna(subset=['CustomerID'], inplace=True)\n",
    "\n",
    "\n",
    "df = df[df['Quantity'] > 0]\n",
    "\n",
    "\n",
    "df = df[df['UnitPrice'] > 0]\n",
    "\n",
    "\n",
    "df['TotalPrice'] = df['Quantity'] * df['UnitPrice']\n",
    "\n",
    "\n",
    "df['InvoiceDate'] = pd.to_datetime(df['InvoiceDate'])\n",
    "\n",
    "\n",
    "df['CustomerID'] = df['CustomerID'].astype(str)\n"
   ]
  },
  {
   "cell_type": "code",
   "execution_count": null,
   "id": "9799c51c",
   "metadata": {},
   "outputs": [
    {
     "name": "stdout",
     "output_type": "stream",
     "text": [
      "Total de clientes únicos: 4338\n",
      "Rango de fechas: 2010-12-01 08:26:00 -> 2011-12-09 12:50:00\n",
      "Country\n",
      "United Kingdom    354321\n",
      "Germany             9040\n",
      "France              8341\n",
      "EIRE                7236\n",
      "Spain               2484\n",
      "Netherlands         2359\n",
      "Belgium             2031\n",
      "Switzerland         1841\n",
      "Portugal            1462\n",
      "Australia           1182\n",
      "Name: count, dtype: int64\n"
     ]
    }
   ],
   "source": [
    "print(\"Total de clientes únicos:\", df['CustomerID'].nunique())\n",
    "print(\"Rango de fechas:\", df['InvoiceDate'].min(), \"->\", df['InvoiceDate'].max())\n",
    "\n",
    "\n",
    "print(df['Country'].value_counts().head(10))\n"
   ]
  },
  {
   "cell_type": "code",
   "execution_count": null,
   "id": "26302404",
   "metadata": {},
   "outputs": [
    {
     "name": "stdout",
     "output_type": "stream",
     "text": [
      "Fecha de referencia para RFM: 2011-12-10\n"
     ]
    }
   ],
   "source": [
    "\n",
    "\n",
    "import datetime as dt\n",
    "\n",
    "\n",
    "fecha_referencia = df['InvoiceDate'].max() + pd.Timedelta(days=1)\n",
    "\n",
    "print(\"Fecha de referencia para RFM:\", fecha_referencia.date())\n"
   ]
  },
  {
   "cell_type": "code",
   "execution_count": null,
   "id": "02796d3b",
   "metadata": {},
   "outputs": [
    {
     "name": "stdout",
     "output_type": "stream",
     "text": [
      "            Recency  Frequency  Monetary\n",
      "CustomerID                              \n",
      "12346.0         326          1  77183.60\n",
      "12347.0           2          7   4310.00\n",
      "12348.0          75          4   1797.24\n",
      "12349.0          19          1   1757.55\n",
      "12350.0         310          1    334.40\n"
     ]
    }
   ],
   "source": [
    "\n",
    "rfm = df.groupby('CustomerID').agg({\n",
    "    'InvoiceDate': lambda x: (fecha_referencia - x.max()).days,  # Recency\n",
    "    'InvoiceNo': 'nunique',                                       # Frequency\n",
    "    'TotalPrice': 'sum'                                           # Monetary\n",
    "})\n",
    "\n",
    "\n",
    "rfm.rename(columns={\n",
    "    'InvoiceDate': 'Recency',\n",
    "    'InvoiceNo': 'Frequency',\n",
    "    'TotalPrice': 'Monetary'\n",
    "}, inplace=True)\n",
    "\n",
    "\n",
    "print(rfm.head())\n"
   ]
  },
  {
   "cell_type": "code",
   "execution_count": null,
   "id": "86789bd0",
   "metadata": {},
   "outputs": [
    {
     "name": "stdout",
     "output_type": "stream",
     "text": [
      "             Recency  Frequency  Monetary\n",
      "CustomerID                               \n",
      "12346.0     2.334574  -0.425097  8.358668\n",
      "12347.0    -0.905340   0.354417  0.250966\n",
      "12348.0    -0.175360  -0.035340 -0.028596\n",
      "12349.0    -0.735345  -0.425097 -0.033012\n",
      "12350.0     2.174578  -0.425097 -0.191347\n"
     ]
    }
   ],
   "source": [
    "from sklearn.preprocessing import StandardScaler\n",
    "\n",
    "\n",
    "rfm_for_clustering = rfm.copy()\n",
    "\n",
    "\n",
    "scaler = StandardScaler()\n",
    "rfm_scaled = scaler.fit_transform(rfm_for_clustering)\n",
    "\n",
    "\n",
    "import numpy as np\n",
    "rfm_scaled_df = pd.DataFrame(rfm_scaled, index=rfm.index, columns=rfm.columns)\n",
    "\n",
    "print(rfm_scaled_df.head())\n"
   ]
  },
  {
   "cell_type": "code",
   "execution_count": null,
   "id": "359eb735",
   "metadata": {},
   "outputs": [
    {
     "data": {
      "image/png": "[encoded data removed]",
      "text/plain": [
       "<Figure size 800x400 with 1 Axes>"
      ]
     },
     "metadata": {},
     "output_type": "display_data"
    }
   ],
   "source": [
    "from sklearn.cluster import KMeans\n",
    "import matplotlib.pyplot as plt\n",
    "\n",
    "\n",
    "sse = []\n",
    "k_range = range(1, 11)\n",
    "\n",
    "for k in k_range:\n",
    "    kmeans = KMeans(n_clusters=k, random_state=1)\n",
    "    kmeans.fit(rfm_scaled_df)\n",
    "    sse.append(kmeans.inertia_)\n",
    "\n",
    "\n",
    "plt.figure(figsize=(8, 4))\n",
    "plt.plot(k_range, sse, marker='o')\n",
    "plt.xlabel('Número de Clusters')\n",
    "plt.ylabel('SSE (Inercia)')\n",
    "plt.title('Método del Codo para elegir K')\n",
    "plt.grid(True)\n",
    "plt.show()\n"
   ]
  },
  {
   "cell_type": "code",
   "execution_count": null,
   "id": "4713cb03",
   "metadata": {},
   "outputs": [
    {
     "name": "stdout",
     "output_type": "stream",
     "text": [
      "            Recency  Frequency       Monetary\n",
      "Cluster                                      \n",
      "0         42.412472   4.136752    1563.782438\n",
      "1        247.312268   1.552974     556.665949\n",
      "2         13.406250  34.739583   21702.508229\n",
      "3          6.714286  65.428571  184143.690000\n"
     ]
    }
   ],
   "source": [
    "\n",
    "kmeans = KMeans(n_clusters=4, random_state=1)\n",
    "rfm_for_clustering['Cluster'] = kmeans.fit_predict(rfm_scaled_df)\n",
    "\n",
    "\n",
    "print(rfm_for_clustering.groupby('Cluster').mean())\n",
    "\n"
   ]
  },
  {
   "cell_type": "code",
   "execution_count": null,
   "id": "a33a4b60",
   "metadata": {},
   "outputs": [],
   "source": []
  }
 ],
 "metadata": {
  "kernelspec": {
   "display_name": "datos",
   "language": "python",
   "name": "python3"
  },
  "language_info": {
   "codemirror_mode": {
    "name": "ipython",
    "version": 3
   },
   "file_extension": ".py",
   "mimetype": "text/x-python",
   "name": "python",
   "nbconvert_exporter": "python",
   "pygments_lexer": "ipython3",
   "version": "3.13.5"
  }
 },
 "nbformat": 4,
 "nbformat_minor": 5
}
